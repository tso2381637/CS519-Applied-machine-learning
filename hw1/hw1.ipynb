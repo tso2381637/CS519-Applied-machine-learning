{
 "cells": [
  {
   "cell_type": "code",
   "execution_count": 1,
   "metadata": {},
   "outputs": [],
   "source": [
    "import numpy as np\n",
    "np.set_printoptions(suppress=True)"
   ]
  },
  {
   "cell_type": "code",
   "execution_count": 2,
   "metadata": {},
   "outputs": [],
   "source": [
    "col_names = ['Ages', 'Sector', 'Education','Marital_Status','Occupation','Race','Sex','Hours','Country','Target']"
   ]
  },
  {
   "cell_type": "code",
   "execution_count": 3,
   "metadata": {},
   "outputs": [],
   "source": [
    "train = np.genfromtxt(\"hw1-data/income.train.txt.5k\", delimiter = ',', dtype=None, names = col_names, autostrip=True, encoding=None)\n",
    "dev = np.genfromtxt(\"hw1-data/income.dev.txt\", delimiter = ',', dtype=None, names = col_names, autostrip=True, encoding=None)"
   ]
  },
  {
   "cell_type": "code",
   "execution_count": 4,
   "metadata": {},
   "outputs": [
    {
     "data": {
      "text/plain": [
       "array([(50, 'Self-emp-not-inc', 'Bachelors', 'Married-civ-spouse', 'Exec-managerial', 'White', 'Male', 13, 'United-States', '<=50K'),\n",
       "       (38, 'Private', 'HS-grad', 'Divorced', 'Handlers-cleaners', 'White', 'Male', 40, 'United-States', '<=50K'),\n",
       "       (53, 'Private', '11th', 'Married-civ-spouse', 'Handlers-cleaners', 'Black', 'Male', 40, 'United-States', '<=50K'),\n",
       "       ...,\n",
       "       (61, 'Private', 'HS-grad', 'Married-civ-spouse', 'Adm-clerical', 'White', 'Female',  5, 'United-States', '<=50K'),\n",
       "       (42, 'Private', 'Bachelors', 'Never-married', 'Sales', 'White', 'Male', 40, 'United-States', '<=50K'),\n",
       "       (21, 'Private', 'Assoc-voc', 'Never-married', 'Adm-clerical', 'White', 'Female', 40, 'United-States', '<=50K')],\n",
       "      dtype=[('Ages', '<i8'), ('Sector', '<U16'), ('Education', '<U12'), ('Marital_Status', '<U21'), ('Occupation', '<U17'), ('Race', '<U18'), ('Sex', '<U6'), ('Hours', '<i8'), ('Country', '<U26'), ('Target', '<U5')])"
      ]
     },
     "execution_count": 4,
     "metadata": {},
     "output_type": "execute_result"
    }
   ],
   "source": [
    "train"
   ]
  },
  {
   "cell_type": "code",
   "execution_count": 5,
   "metadata": {},
   "outputs": [],
   "source": [
    "# One-hot encoding\n",
    "mapping = {}\n",
    "def One_hot_encoding(f):\n",
    "    target = []\n",
    "    new_data = []\n",
    "    for r in f:\n",
    "        new_row = []\n",
    "        for i, c in enumerate(r):\n",
    "            if i==9 and c=='<=50K':\n",
    "                target.append(0)\n",
    "            elif i==9 and c=='>50K':\n",
    "                target.append(1)\n",
    "            elif not c.dtype is np.dtype('i8'):\n",
    "                if (i, c) not in mapping:\n",
    "                    mapping[(i,c)] = len(mapping)\n",
    "                new_row.append(mapping[(i,c)])\n",
    "                \n",
    "        new_data.append(new_row)\n",
    "            \n",
    "    m,n = f.shape[0], len(mapping)\n",
    "    bindata = np.zeros([m,n])\n",
    "    for i, r in enumerate(new_data):\n",
    "        for x in r:\n",
    "            bindata[i][x] = 1\n",
    "\n",
    "    bindata = np.concatenate((bindata,np.reshape(f['Ages']/50,(-1,1)),np.reshape(f['Hours']/50,(-1,1))),1)\n",
    "    \n",
    "    return bindata, np.array(target)\n",
    "                "
   ]
  },
  {
   "cell_type": "code",
   "execution_count": 6,
   "metadata": {},
   "outputs": [],
   "source": [
    "train, train_label = One_hot_encoding(train)\n",
    "dev, dev_label = One_hot_encoding(dev)"
   ]
  },
  {
   "cell_type": "code",
   "execution_count": 7,
   "metadata": {},
   "outputs": [],
   "source": [
    "train = np.c_[train[:,:90], np.zeros(5000), train[:,90:]]"
   ]
  },
  {
   "cell_type": "code",
   "execution_count": 8,
   "metadata": {},
   "outputs": [],
   "source": [
    "# calculate distance with simply append all distance to array\n",
    "def get_k_neighborhood(f, t, k, method=None):\n",
    "    result = np.zeros(len(f))\n",
    "    for (i, r) in enumerate(f):\n",
    "        result[i] = np.linalg.norm(r-t, ord=method)\n",
    "    top_k = np.argpartition(result, k, axis=0)[:k]\n",
    "    return top_k, result[top_k]"
   ]
  },
  {
   "cell_type": "code",
   "execution_count": 9,
   "metadata": {},
   "outputs": [
    {
     "data": {
      "text/plain": [
       "(array([1713, 3769, 2003, 1010, 2450]),\n",
       " array([0.16      , 0.26      , 0.28284271, 0.06      , 0.34      ]))"
      ]
     },
     "execution_count": 9,
     "metadata": {},
     "output_type": "execute_result"
    }
   ],
   "source": [
    "euclidean_list = get_k_neighborhood(train, dev[-1], 5, None)\n",
    "euclidean_list"
   ]
  },
  {
   "cell_type": "code",
   "execution_count": 10,
   "metadata": {},
   "outputs": [
    {
     "data": {
      "text/plain": [
       "(array([1713, 3769, 2003, 1010, 2450]),\n",
       " array([0.16      , 0.26      , 0.28284271, 0.06      , 0.34      ]))"
      ]
     },
     "execution_count": 10,
     "metadata": {},
     "output_type": "execute_result"
    }
   ],
   "source": [
    "get_k_neighborhood(train, dev[-1], 5)"
   ]
  },
  {
   "cell_type": "code",
   "execution_count": 11,
   "metadata": {},
   "outputs": [],
   "source": [
    "manhattan_list = get_k_neighborhood(train, dev[-1], 1)"
   ]
  },
  {
   "cell_type": "code",
   "execution_count": 12,
   "metadata": {},
   "outputs": [],
   "source": [
    "def knn(train_data, target_data, target_index, k, distance_method=None):\n",
    "    result = 0\n",
    "\n",
    "    k_list = get_k_neighborhood(train_data, target_data[target_index], k)\n",
    "\n",
    "    result = train_label[k_list[0].astype('int')].sum()\n",
    "    if result >= k/2:\n",
    "        return 1\n",
    "    else:\n",
    "        return 0"
   ]
  },
  {
   "cell_type": "code",
   "execution_count": 13,
   "metadata": {},
   "outputs": [
    {
     "name": "stdout",
     "output_type": "stream",
     "text": [
      "True\n",
      "True\n"
     ]
    }
   ],
   "source": [
    "print(knn(train, dev, 999, 5, None) == dev_label[-1])\n",
    "print(knn(train, dev, 999, 5, 1) == dev_label[-1])"
   ]
  },
  {
   "cell_type": "code",
   "execution_count": 14,
   "metadata": {},
   "outputs": [
    {
     "name": "stdout",
     "output_type": "stream",
     "text": [
      "True\n",
      "True\n"
     ]
    }
   ],
   "source": [
    "print(knn(train, dev, 999, 9, None) == dev_label[-1])\n",
    "print(knn(train, dev, 999, 9, 1) == dev_label[-1])"
   ]
  },
  {
   "cell_type": "code",
   "execution_count": 15,
   "metadata": {},
   "outputs": [],
   "source": [
    "def knn_pred(target_data, k, metric=None):\n",
    "    pred = np.zeros(len(target_data))\n",
    "    for i, r in enumerate(target_data):\n",
    "        pred[i] = knn(train, target_data, i, k, metric)\n",
    "    return pred"
   ]
  },
  {
   "cell_type": "code",
   "execution_count": 16,
   "metadata": {},
   "outputs": [],
   "source": [
    "import time"
   ]
  },
  {
   "cell_type": "code",
   "execution_count": 17,
   "metadata": {
    "scrolled": false
   },
   "outputs": [
    {
     "name": "stdout",
     "output_type": "stream",
     "text": [
      "k=1, dev_err=[23.3]%, positive_rate=[26.9]%, time=71.52361512184143\n",
      "k=3, dev_err=[19.2]%, positive_rate=[26.]%, time=76.28715205192566\n",
      "k=5, dev_err=[17.7]%, positive_rate=[25.1]%, time=78.42572689056396\n",
      "k=7, dev_err=[16.5]%, positive_rate=[24.5]%, time=77.9968740940094\n",
      "k=9, dev_err=[16.]%, positive_rate=[22.6]%, time=78.238028049469\n",
      "k=99, dev_err=[15.8]%, positive_rate=[19.4]%, time=78.38519883155823\n",
      "k=999, dev_err=[17.9]%, positive_rate=[11.1]%, time=78.36374807357788\n"
     ]
    }
   ],
   "source": [
    "result =[]\n",
    "for k in [1,3,5,7,9,99,999]:\n",
    "    start = time.time()\n",
    "    predict = knn_pred(dev, k, metric=None)\n",
    "    err = np.abs(predict-dev_label).sum()/predict.shape*100\n",
    "    positive_rate = predict.sum()/predict.shape*100\n",
    "    result.append([k, err, positive_rate])\n",
    "    end = time.time()\n",
    "    print(\"k=\"+str(k)+\", dev_err=\"+str(err)+\"%, positive_rate=\" + str(positive_rate)+\"%, time=\" + str(end-start))"
   ]
  },
  {
   "cell_type": "code",
   "execution_count": null,
   "metadata": {},
   "outputs": [],
   "source": [
    "predict = knn_pred(dev, 1, metric=None)\n",
    "err = np.abs(predict-dev_label).sum()/predict.shape*100\n",
    "positive_rate = predict.sum()/predict.shape*100\n",
    "print(\"k=\"+str(1)+\", dev_err=\"+str(err)+\"%, positive_rate=\" + str(positive_rate)+\"%\")"
   ]
  },
  {
   "cell_type": "code",
   "execution_count": null,
   "metadata": {},
   "outputs": [],
   "source": []
  }
 ],
 "metadata": {
  "kernelspec": {
   "display_name": "Python 3",
   "language": "python",
   "name": "python3"
  },
  "language_info": {
   "codemirror_mode": {
    "name": "ipython",
    "version": 3
   },
   "file_extension": ".py",
   "mimetype": "text/x-python",
   "name": "python",
   "nbconvert_exporter": "python",
   "pygments_lexer": "ipython3",
   "version": "3.7.6"
  }
 },
 "nbformat": 4,
 "nbformat_minor": 2
}
